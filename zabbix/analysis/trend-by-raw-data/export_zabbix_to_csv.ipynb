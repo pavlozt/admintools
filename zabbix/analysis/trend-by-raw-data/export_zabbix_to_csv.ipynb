{
 "cells": [
  {
   "cell_type": "markdown",
   "metadata": {},
   "source": [
    "# Экспорт некоторых значений из zabbix api\n",
    "\n",
    "По традиции,  в zabbix нет никакого способа выгрузить значения. Этот функционал отдан на откуп API.\n",
    "В этом блокноте реализован пример выгрузки данных в более удобные аналитические форматы."
   ]
  },
  {
   "cell_type": "markdown",
   "metadata": {},
   "source": [
    "С некоторых пор функционал выгрузки в CSV появился в Grafana, которая часто используется вместе с Zabbix."
   ]
  },
  {
   "cell_type": "code",
   "execution_count": 1,
   "metadata": {},
   "outputs": [],
   "source": [
    "import matplotlib\n",
    "import numpy as np\n",
    "import matplotlib.mlab as mlab\n",
    "import matplotlib.pyplot as plt\n",
    "import requests\n",
    "import json\n",
    "import time\n",
    "from datetime import datetime\n",
    "import pandas as pd"
   ]
  },
  {
   "cell_type": "code",
   "execution_count": 2,
   "metadata": {},
   "outputs": [],
   "source": [
    "ZABBIX_URI = 'https://domain.url/zabbix/api_jsonrpc.php'\n",
    "ZABBIX_USR = ''\n",
    "ZABBIX_PWD = ''"
   ]
  },
  {
   "cell_type": "code",
   "execution_count": 3,
   "metadata": {},
   "outputs": [],
   "source": [
    "# специальный модуль loca_secrets.py  содержащий значения переменных.\n",
    "# нужно самостоятельно создать файл используя шаблон выше.\n",
    "# Этот модуль нужен чтобы пароли не гуляли по jupyter notebook.\n",
    "# Ноутбуком можно спокойно поделиться.\n",
    "from  local_secrets import *"
   ]
  },
  {
   "cell_type": "markdown",
   "metadata": {},
   "source": [
    "### Настройки скрипта ###\n",
    "hostid и itemid  легко найти на странице Latest data. При просмотре графиков их можно достать из URL браузера."
   ]
  },
  {
   "cell_type": "code",
   "execution_count": 4,
   "metadata": {},
   "outputs": [],
   "source": [
    "hostid = 10360\n",
    "itemid = 36546\n",
    "# начало выгрузки\n",
    "starttime = '2022-05-01 0:0:00'\n",
    "# Имя  временной зоны для коррекции. \n",
    "dst_correction_zone = 'Europe/Moscow'"
   ]
  },
  {
   "cell_type": "markdown",
   "metadata": {},
   "source": [
    "Несколько служебных функций.\n",
    "\n",
    "Для zabbix существует масса специальных модулей, но данное решение ситуационное и их существование игнорирует."
   ]
  },
  {
   "cell_type": "code",
   "execution_count": 5,
   "metadata": {},
   "outputs": [],
   "source": [
    "def zabbixLogin(user, passwd):\n",
    "  params = {\n",
    "    'user':user,\n",
    "    'password':passwd\n",
    "  }\n",
    "  return zabbixCall('user.login', params)"
   ]
  },
  {
   "cell_type": "code",
   "execution_count": 6,
   "metadata": {},
   "outputs": [],
   "source": [
    "def zabbixCall(method='', params={}, auth=''):\n",
    "    data = {\n",
    "        'jsonrpc':'2.0',\n",
    "        'method':method,\n",
    "        'params':params,\n",
    "        'id':1\n",
    "      }\n",
    "    if len(auth) != 0:\n",
    "        data['auth'] = auth\n",
    "    r = requests.post(ZABBIX_URI, data=json.dumps(data), headers={'content-type':'application/json-rpc'})\n",
    "    #print(\"\\n\\n code \",r.status_code)\n",
    "    #print('json ret',r.json())\n",
    "    return r.json()['result']"
   ]
  },
  {
   "cell_type": "code",
   "execution_count": 7,
   "metadata": {},
   "outputs": [
    {
     "name": "stdout",
     "output_type": "stream",
     "text": [
      "Элемент данных /dev/nvme1: ID 190/194 Temperature\n"
     ]
    }
   ],
   "source": [
    "authId = zabbixLogin(ZABBIX_USR, ZABBIX_PWD)\n",
    "#print('Проверка авторизации: ' + authId)\n",
    "params = {\n",
    "  'hostids':hostid,\n",
    "  'itemids':itemid\n",
    "}\n",
    "items = zabbixCall('item.get', params, authId)\n",
    "\n",
    "print('Элемент данных',items[0]['name'])"
   ]
  },
  {
   "cell_type": "markdown",
   "metadata": {},
   "source": [
    "Старые данные в zabbix агрегируются по часам и хранятся в виде так называемых trends. Актуальные данные хранятся с произвольной точностью.\n",
    "Здесь мы получим и объединим оба набора данных."
   ]
  },
  {
   "cell_type": "code",
   "execution_count": 8,
   "metadata": {},
   "outputs": [
    {
     "data": {
      "text/html": [
       "<div>\n",
       "<style scoped>\n",
       "    .dataframe tbody tr th:only-of-type {\n",
       "        vertical-align: middle;\n",
       "    }\n",
       "\n",
       "    .dataframe tbody tr th {\n",
       "        vertical-align: top;\n",
       "    }\n",
       "\n",
       "    .dataframe thead th {\n",
       "        text-align: right;\n",
       "    }\n",
       "</style>\n",
       "<table border=\"1\" class=\"dataframe\">\n",
       "  <thead>\n",
       "    <tr style=\"text-align: right;\">\n",
       "      <th></th>\n",
       "      <th>itemid</th>\n",
       "      <th>clock</th>\n",
       "      <th>num</th>\n",
       "      <th>value_min</th>\n",
       "      <th>value_avg</th>\n",
       "      <th>value_max</th>\n",
       "    </tr>\n",
       "  </thead>\n",
       "  <tbody>\n",
       "    <tr>\n",
       "      <th>0</th>\n",
       "      <td>36546</td>\n",
       "      <td>1651363200</td>\n",
       "      <td>12</td>\n",
       "      <td>45</td>\n",
       "      <td>45</td>\n",
       "      <td>46</td>\n",
       "    </tr>\n",
       "    <tr>\n",
       "      <th>1</th>\n",
       "      <td>36546</td>\n",
       "      <td>1651366800</td>\n",
       "      <td>12</td>\n",
       "      <td>44</td>\n",
       "      <td>44</td>\n",
       "      <td>45</td>\n",
       "    </tr>\n",
       "    <tr>\n",
       "      <th>2</th>\n",
       "      <td>36546</td>\n",
       "      <td>1651370400</td>\n",
       "      <td>12</td>\n",
       "      <td>45</td>\n",
       "      <td>45</td>\n",
       "      <td>45</td>\n",
       "    </tr>\n",
       "    <tr>\n",
       "      <th>3</th>\n",
       "      <td>36546</td>\n",
       "      <td>1651374000</td>\n",
       "      <td>12</td>\n",
       "      <td>44</td>\n",
       "      <td>44</td>\n",
       "      <td>45</td>\n",
       "    </tr>\n",
       "    <tr>\n",
       "      <th>4</th>\n",
       "      <td>36546</td>\n",
       "      <td>1651377600</td>\n",
       "      <td>12</td>\n",
       "      <td>45</td>\n",
       "      <td>46</td>\n",
       "      <td>48</td>\n",
       "    </tr>\n",
       "  </tbody>\n",
       "</table>\n",
       "</div>"
      ],
      "text/plain": [
       "  itemid       clock num value_min value_avg value_max\n",
       "0  36546  1651363200  12        45        45        46\n",
       "1  36546  1651366800  12        44        44        45\n",
       "2  36546  1651370400  12        45        45        45\n",
       "3  36546  1651374000  12        44        44        45\n",
       "4  36546  1651377600  12        45        46        48"
      ]
     },
     "execution_count": 8,
     "metadata": {},
     "output_type": "execute_result"
    }
   ],
   "source": [
    "begin = int((pd.to_datetime([starttime]).astype(int) / 10**9) [0])\n",
    "\n",
    "params = {\n",
    "    'output':'extend',\n",
    "    #'history':1,\n",
    "    'itemids':itemid,\n",
    "    'time_from':begin\n",
    "    }\n",
    "ret = zabbixCall('trend.get', params, authId)\n",
    "trend=pd.DataFrame(ret)\n",
    "trend.head(5)"
   ]
  },
  {
   "cell_type": "code",
   "execution_count": 9,
   "metadata": {},
   "outputs": [
    {
     "data": {
      "text/html": [
       "<div>\n",
       "<style scoped>\n",
       "    .dataframe tbody tr th:only-of-type {\n",
       "        vertical-align: middle;\n",
       "    }\n",
       "\n",
       "    .dataframe tbody tr th {\n",
       "        vertical-align: top;\n",
       "    }\n",
       "\n",
       "    .dataframe thead th {\n",
       "        text-align: right;\n",
       "    }\n",
       "</style>\n",
       "<table border=\"1\" class=\"dataframe\">\n",
       "  <thead>\n",
       "    <tr style=\"text-align: right;\">\n",
       "      <th></th>\n",
       "      <th>itemid</th>\n",
       "      <th>clock</th>\n",
       "      <th>value</th>\n",
       "    </tr>\n",
       "  </thead>\n",
       "  <tbody>\n",
       "    <tr>\n",
       "      <th>0</th>\n",
       "      <td>36546</td>\n",
       "      <td>1651363200</td>\n",
       "      <td>45</td>\n",
       "    </tr>\n",
       "    <tr>\n",
       "      <th>1</th>\n",
       "      <td>36546</td>\n",
       "      <td>1651366800</td>\n",
       "      <td>44</td>\n",
       "    </tr>\n",
       "    <tr>\n",
       "      <th>2</th>\n",
       "      <td>36546</td>\n",
       "      <td>1651370400</td>\n",
       "      <td>45</td>\n",
       "    </tr>\n",
       "    <tr>\n",
       "      <th>3</th>\n",
       "      <td>36546</td>\n",
       "      <td>1651374000</td>\n",
       "      <td>44</td>\n",
       "    </tr>\n",
       "    <tr>\n",
       "      <th>4</th>\n",
       "      <td>36546</td>\n",
       "      <td>1651377600</td>\n",
       "      <td>46</td>\n",
       "    </tr>\n",
       "    <tr>\n",
       "      <th>...</th>\n",
       "      <td>...</td>\n",
       "      <td>...</td>\n",
       "      <td>...</td>\n",
       "    </tr>\n",
       "    <tr>\n",
       "      <th>1114</th>\n",
       "      <td>36546</td>\n",
       "      <td>1655373600</td>\n",
       "      <td>54</td>\n",
       "    </tr>\n",
       "    <tr>\n",
       "      <th>1115</th>\n",
       "      <td>36546</td>\n",
       "      <td>1655377200</td>\n",
       "      <td>54</td>\n",
       "    </tr>\n",
       "    <tr>\n",
       "      <th>1116</th>\n",
       "      <td>36546</td>\n",
       "      <td>1655380800</td>\n",
       "      <td>54</td>\n",
       "    </tr>\n",
       "    <tr>\n",
       "      <th>1117</th>\n",
       "      <td>36546</td>\n",
       "      <td>1655384400</td>\n",
       "      <td>54</td>\n",
       "    </tr>\n",
       "    <tr>\n",
       "      <th>1118</th>\n",
       "      <td>36546</td>\n",
       "      <td>1655388000</td>\n",
       "      <td>54</td>\n",
       "    </tr>\n",
       "  </tbody>\n",
       "</table>\n",
       "<p>1119 rows × 3 columns</p>\n",
       "</div>"
      ],
      "text/plain": [
       "     itemid       clock value\n",
       "0     36546  1651363200    45\n",
       "1     36546  1651366800    44\n",
       "2     36546  1651370400    45\n",
       "3     36546  1651374000    44\n",
       "4     36546  1651377600    46\n",
       "...     ...         ...   ...\n",
       "1114  36546  1655373600    54\n",
       "1115  36546  1655377200    54\n",
       "1116  36546  1655380800    54\n",
       "1117  36546  1655384400    54\n",
       "1118  36546  1655388000    54\n",
       "\n",
       "[1119 rows x 3 columns]"
      ]
     },
     "execution_count": 9,
     "metadata": {},
     "output_type": "execute_result"
    }
   ],
   "source": [
    "trend=trend[['itemid','clock','value_avg']].rename(columns={\"value_avg\": \"value\"})\n",
    "trend"
   ]
  },
  {
   "cell_type": "markdown",
   "metadata": {},
   "source": [
    "Трансляция и перевод данных в оптимальные типы pandas"
   ]
  },
  {
   "cell_type": "code",
   "execution_count": 11,
   "metadata": {},
   "outputs": [
    {
     "data": {
      "text/html": [
       "<div>\n",
       "<style scoped>\n",
       "    .dataframe tbody tr th:only-of-type {\n",
       "        vertical-align: middle;\n",
       "    }\n",
       "\n",
       "    .dataframe tbody tr th {\n",
       "        vertical-align: top;\n",
       "    }\n",
       "\n",
       "    .dataframe thead th {\n",
       "        text-align: right;\n",
       "    }\n",
       "</style>\n",
       "<table border=\"1\" class=\"dataframe\">\n",
       "  <thead>\n",
       "    <tr style=\"text-align: right;\">\n",
       "      <th></th>\n",
       "      <th>itemid</th>\n",
       "      <th>clock</th>\n",
       "      <th>value</th>\n",
       "      <th>ns</th>\n",
       "    </tr>\n",
       "  </thead>\n",
       "  <tbody>\n",
       "    <tr>\n",
       "      <th>0</th>\n",
       "      <td>36546</td>\n",
       "      <td>1651363200</td>\n",
       "      <td>45</td>\n",
       "      <td>0</td>\n",
       "    </tr>\n",
       "    <tr>\n",
       "      <th>1</th>\n",
       "      <td>36546</td>\n",
       "      <td>1651366800</td>\n",
       "      <td>44</td>\n",
       "      <td>0</td>\n",
       "    </tr>\n",
       "    <tr>\n",
       "      <th>2</th>\n",
       "      <td>36546</td>\n",
       "      <td>1651370400</td>\n",
       "      <td>45</td>\n",
       "      <td>0</td>\n",
       "    </tr>\n",
       "    <tr>\n",
       "      <th>3</th>\n",
       "      <td>36546</td>\n",
       "      <td>1651374000</td>\n",
       "      <td>44</td>\n",
       "      <td>0</td>\n",
       "    </tr>\n",
       "    <tr>\n",
       "      <th>4</th>\n",
       "      <td>36546</td>\n",
       "      <td>1651377600</td>\n",
       "      <td>46</td>\n",
       "      <td>0</td>\n",
       "    </tr>\n",
       "    <tr>\n",
       "      <th>...</th>\n",
       "      <td>...</td>\n",
       "      <td>...</td>\n",
       "      <td>...</td>\n",
       "      <td>...</td>\n",
       "    </tr>\n",
       "    <tr>\n",
       "      <th>1114</th>\n",
       "      <td>36546</td>\n",
       "      <td>1655373600</td>\n",
       "      <td>54</td>\n",
       "      <td>0</td>\n",
       "    </tr>\n",
       "    <tr>\n",
       "      <th>1115</th>\n",
       "      <td>36546</td>\n",
       "      <td>1655377200</td>\n",
       "      <td>54</td>\n",
       "      <td>0</td>\n",
       "    </tr>\n",
       "    <tr>\n",
       "      <th>1116</th>\n",
       "      <td>36546</td>\n",
       "      <td>1655380800</td>\n",
       "      <td>54</td>\n",
       "      <td>0</td>\n",
       "    </tr>\n",
       "    <tr>\n",
       "      <th>1117</th>\n",
       "      <td>36546</td>\n",
       "      <td>1655384400</td>\n",
       "      <td>54</td>\n",
       "      <td>0</td>\n",
       "    </tr>\n",
       "    <tr>\n",
       "      <th>1118</th>\n",
       "      <td>36546</td>\n",
       "      <td>1655388000</td>\n",
       "      <td>54</td>\n",
       "      <td>0</td>\n",
       "    </tr>\n",
       "  </tbody>\n",
       "</table>\n",
       "<p>1119 rows × 4 columns</p>\n",
       "</div>"
      ],
      "text/plain": [
       "      itemid       clock  value  ns\n",
       "0      36546  1651363200     45   0\n",
       "1      36546  1651366800     44   0\n",
       "2      36546  1651370400     45   0\n",
       "3      36546  1651374000     44   0\n",
       "4      36546  1651377600     46   0\n",
       "...      ...         ...    ...  ..\n",
       "1114   36546  1655373600     54   0\n",
       "1115   36546  1655377200     54   0\n",
       "1116   36546  1655380800     54   0\n",
       "1117   36546  1655384400     54   0\n",
       "1118   36546  1655388000     54   0\n",
       "\n",
       "[1119 rows x 4 columns]"
      ]
     },
     "execution_count": 11,
     "metadata": {},
     "output_type": "execute_result"
    }
   ],
   "source": [
    "trend.value=trend.value.astype('int64')\n",
    "trend.itemid=trend.itemid.astype('int64')\n",
    "trend.clock=trend.clock.astype('int64')\n",
    "trend['ns']=0\n",
    "trend"
   ]
  },
  {
   "cell_type": "code",
   "execution_count": 12,
   "metadata": {},
   "outputs": [
    {
     "name": "stdout",
     "output_type": "stream",
     "text": [
      "1651363200\n"
     ]
    },
    {
     "data": {
      "text/html": [
       "<div>\n",
       "<style scoped>\n",
       "    .dataframe tbody tr th:only-of-type {\n",
       "        vertical-align: middle;\n",
       "    }\n",
       "\n",
       "    .dataframe tbody tr th {\n",
       "        vertical-align: top;\n",
       "    }\n",
       "\n",
       "    .dataframe thead th {\n",
       "        text-align: right;\n",
       "    }\n",
       "</style>\n",
       "<table border=\"1\" class=\"dataframe\">\n",
       "  <thead>\n",
       "    <tr style=\"text-align: right;\">\n",
       "      <th></th>\n",
       "      <th>itemid</th>\n",
       "      <th>clock</th>\n",
       "      <th>value</th>\n",
       "      <th>ns</th>\n",
       "    </tr>\n",
       "  </thead>\n",
       "  <tbody>\n",
       "    <tr>\n",
       "      <th>0</th>\n",
       "      <td>36546</td>\n",
       "      <td>1654788844</td>\n",
       "      <td>56</td>\n",
       "      <td>946849665</td>\n",
       "    </tr>\n",
       "    <tr>\n",
       "      <th>1</th>\n",
       "      <td>36546</td>\n",
       "      <td>1654789144</td>\n",
       "      <td>56</td>\n",
       "      <td>907556172</td>\n",
       "    </tr>\n",
       "    <tr>\n",
       "      <th>2</th>\n",
       "      <td>36546</td>\n",
       "      <td>1654789444</td>\n",
       "      <td>56</td>\n",
       "      <td>122993304</td>\n",
       "    </tr>\n",
       "    <tr>\n",
       "      <th>3</th>\n",
       "      <td>36546</td>\n",
       "      <td>1654789744</td>\n",
       "      <td>56</td>\n",
       "      <td>98182063</td>\n",
       "    </tr>\n",
       "    <tr>\n",
       "      <th>4</th>\n",
       "      <td>36546</td>\n",
       "      <td>1654790044</td>\n",
       "      <td>56</td>\n",
       "      <td>146744874</td>\n",
       "    </tr>\n",
       "  </tbody>\n",
       "</table>\n",
       "</div>"
      ],
      "text/plain": [
       "  itemid       clock value         ns\n",
       "0  36546  1654788844    56  946849665\n",
       "1  36546  1654789144    56  907556172\n",
       "2  36546  1654789444    56  122993304\n",
       "3  36546  1654789744    56   98182063\n",
       "4  36546  1654790044    56  146744874"
      ]
     },
     "execution_count": 12,
     "metadata": {},
     "output_type": "execute_result"
    }
   ],
   "source": [
    "# или будем эскпортировать самые свежие данные?\n",
    "#begin = int(time.mktime(datetime.now().timetuple()) - 3600 * HOURS)\n",
    "print(begin)\n",
    "\n",
    "begin = int((pd.to_datetime([starttime]).astype(int) / 10**9) [0])\n",
    "\n",
    "params = {\n",
    "    'output':'extend',\n",
    "    #'history':1,\n",
    "    'itemids':itemid,\n",
    "    'time_from':begin\n",
    "    }\n",
    "ret = zabbixCall('history.get', params, authId)\n",
    "df=pd.DataFrame(ret)\n",
    "df.head(5)"
   ]
  },
  {
   "cell_type": "code",
   "execution_count": 13,
   "metadata": {},
   "outputs": [],
   "source": [
    "df.value=df.value.astype('int64')\n",
    "df.itemid=df.itemid.astype('int64')\n",
    "df.clock=df.clock.astype('int64')\n",
    "df.ns=df.ns.astype('int64')"
   ]
  },
  {
   "cell_type": "code",
   "execution_count": 14,
   "metadata": {},
   "outputs": [],
   "source": [
    "#Объединяем trend и df\n",
    "df = pd.concat([trend,df])"
   ]
  },
  {
   "cell_type": "code",
   "execution_count": 15,
   "metadata": {},
   "outputs": [],
   "source": [
    "df=df.sort_values('clock')\n",
    "df['ts']=pd.to_datetime(df['clock'],unit='s',origin='unix')\n",
    "\n",
    "df['ts'] = df['ts'].dt.tz_localize('UTC').dt.tz_convert(dst_correction_zone)"
   ]
  },
  {
   "cell_type": "code",
   "execution_count": 16,
   "metadata": {},
   "outputs": [],
   "source": [
    "df=df[['ts','value']]"
   ]
  },
  {
   "cell_type": "markdown",
   "metadata": {},
   "source": [
    "### Визуальный контроль данных в виде графика. ###\n",
    "Можно использовать для ситуационного \"прицеливания\" диапазонов выгрузки"
   ]
  },
  {
   "cell_type": "code",
   "execution_count": 21,
   "metadata": {},
   "outputs": [
    {
     "data": {
      "text/plain": [
       "<AxesSubplot:xlabel='ts'>"
      ]
     },
     "execution_count": 21,
     "metadata": {},
     "output_type": "execute_result"
    },
    {
     "data": {
      "image/png": "[encoded data removed]",
      "text/plain": [
       "<Figure size 720x216 with 1 Axes>"
      ]
     },
     "metadata": {
      "needs_background": "light"
     },
     "output_type": "display_data"
    }
   ],
   "source": [
    "df.plot(x='ts',y='value',figsize=(10,3))"
   ]
  },
  {
   "cell_type": "markdown",
   "metadata": {},
   "source": [
    "Более точные границы выгрузки интересующего промежутка"
   ]
  },
  {
   "cell_type": "code",
   "execution_count": 22,
   "metadata": {},
   "outputs": [],
   "source": [
    "cut_from='2022-05-01 0:0:0'\n",
    "cut_to='2022-06-20 0:0:0'"
   ]
  },
  {
   "cell_type": "code",
   "execution_count": 23,
   "metadata": {},
   "outputs": [],
   "source": [
    "df=df[(cut_from < df['ts']) &  (df['ts']< cut_to)]"
   ]
  },
  {
   "cell_type": "code",
   "execution_count": 24,
   "metadata": {},
   "outputs": [
    {
     "data": {
      "text/html": [
       "<div>\n",
       "<style scoped>\n",
       "    .dataframe tbody tr th:only-of-type {\n",
       "        vertical-align: middle;\n",
       "    }\n",
       "\n",
       "    .dataframe tbody tr th {\n",
       "        vertical-align: top;\n",
       "    }\n",
       "\n",
       "    .dataframe thead th {\n",
       "        text-align: right;\n",
       "    }\n",
       "</style>\n",
       "<table border=\"1\" class=\"dataframe\">\n",
       "  <thead>\n",
       "    <tr style=\"text-align: right;\">\n",
       "      <th></th>\n",
       "      <th>ts</th>\n",
       "      <th>value</th>\n",
       "    </tr>\n",
       "  </thead>\n",
       "  <tbody>\n",
       "    <tr>\n",
       "      <th>0</th>\n",
       "      <td>2022-05-01 03:00:00+03:00</td>\n",
       "      <td>45</td>\n",
       "    </tr>\n",
       "    <tr>\n",
       "      <th>1</th>\n",
       "      <td>2022-05-01 04:00:00+03:00</td>\n",
       "      <td>44</td>\n",
       "    </tr>\n",
       "    <tr>\n",
       "      <th>2</th>\n",
       "      <td>2022-05-01 05:00:00+03:00</td>\n",
       "      <td>45</td>\n",
       "    </tr>\n",
       "    <tr>\n",
       "      <th>3</th>\n",
       "      <td>2022-05-01 06:00:00+03:00</td>\n",
       "      <td>44</td>\n",
       "    </tr>\n",
       "    <tr>\n",
       "      <th>4</th>\n",
       "      <td>2022-05-01 07:00:00+03:00</td>\n",
       "      <td>46</td>\n",
       "    </tr>\n",
       "    <tr>\n",
       "      <th>...</th>\n",
       "      <td>...</td>\n",
       "      <td>...</td>\n",
       "    </tr>\n",
       "    <tr>\n",
       "      <th>2013</th>\n",
       "      <td>2022-06-16 18:19:04+03:00</td>\n",
       "      <td>54</td>\n",
       "    </tr>\n",
       "    <tr>\n",
       "      <th>2014</th>\n",
       "      <td>2022-06-16 18:24:04+03:00</td>\n",
       "      <td>54</td>\n",
       "    </tr>\n",
       "    <tr>\n",
       "      <th>2015</th>\n",
       "      <td>2022-06-16 18:29:04+03:00</td>\n",
       "      <td>54</td>\n",
       "    </tr>\n",
       "    <tr>\n",
       "      <th>2016</th>\n",
       "      <td>2022-06-16 18:34:04+03:00</td>\n",
       "      <td>54</td>\n",
       "    </tr>\n",
       "    <tr>\n",
       "      <th>2017</th>\n",
       "      <td>2022-06-16 18:39:04+03:00</td>\n",
       "      <td>53</td>\n",
       "    </tr>\n",
       "  </tbody>\n",
       "</table>\n",
       "<p>3137 rows × 2 columns</p>\n",
       "</div>"
      ],
      "text/plain": [
       "                            ts  value\n",
       "0    2022-05-01 03:00:00+03:00     45\n",
       "1    2022-05-01 04:00:00+03:00     44\n",
       "2    2022-05-01 05:00:00+03:00     45\n",
       "3    2022-05-01 06:00:00+03:00     44\n",
       "4    2022-05-01 07:00:00+03:00     46\n",
       "...                        ...    ...\n",
       "2013 2022-06-16 18:19:04+03:00     54\n",
       "2014 2022-06-16 18:24:04+03:00     54\n",
       "2015 2022-06-16 18:29:04+03:00     54\n",
       "2016 2022-06-16 18:34:04+03:00     54\n",
       "2017 2022-06-16 18:39:04+03:00     53\n",
       "\n",
       "[3137 rows x 2 columns]"
      ]
     },
     "execution_count": 24,
     "metadata": {},
     "output_type": "execute_result"
    }
   ],
   "source": [
    "df"
   ]
  },
  {
   "cell_type": "code",
   "execution_count": 25,
   "metadata": {},
   "outputs": [
    {
     "data": {
      "text/plain": [
       "<AxesSubplot:xlabel='ts'>"
      ]
     },
     "execution_count": 25,
     "metadata": {},
     "output_type": "execute_result"
    },
    {
     "data": {
      "image/png": "[encoded data removed]",
      "text/plain": [
       "<Figure size 432x288 with 1 Axes>"
      ]
     },
     "metadata": {
      "needs_background": "light"
     },
     "output_type": "display_data"
    }
   ],
   "source": [
    "df.plot(x='ts',y='value')"
   ]
  },
  {
   "cell_type": "markdown",
   "metadata": {},
   "source": [
    "### Сохранение на диск в  удобном формате ###\n",
    "Можно использовать все принятые в pandas способы.\n",
    "В данной ситуации, для сокращения объема данных, удаляем timezone."
   ]
  },
  {
   "cell_type": "code",
   "execution_count": 28,
   "metadata": {},
   "outputs": [],
   "source": [
    "df['ts']=df['ts'].dt.tz_localize(None)\n",
    "df.to_csv('exported-from-zabbix-monotonic.csv')"
   ]
  },
  {
   "cell_type": "markdown",
   "metadata": {},
   "source": [
    "## См. так же: ##\n",
    "\n",
    "Эти явно сезонные данные можно прогнозировать с помощью  [Facebook Prophet](prophet.ipynb)"
   ]
  }
 ],
 "metadata": {
  "kernelspec": {
   "display_name": "Python 3 (ipykernel)",
   "language": "python",
   "name": "python3"
  },
  "language_info": {
   "codemirror_mode": {
    "name": "ipython",
    "version": 3
   },
   "file_extension": ".py",
   "mimetype": "text/x-python",
   "name": "python",
   "nbconvert_exporter": "python",
   "pygments_lexer": "ipython3",
   "version": "3.9.2"
  },
  "nbTranslate": {
   "displayLangs": [
    "*"
   ],
   "hotkey": "alt-t",
   "langInMainMenu": true,
   "sourceLang": "en",
   "targetLang": "fr",
   "useGoogleTranslate": true
  },
  "varInspector": {
   "cols": {
    "lenName": 16,
    "lenType": 16,
    "lenVar": 40
   },
   "kernels_config": {
    "python": {
     "delete_cmd_postfix": "",
     "delete_cmd_prefix": "del ",
     "library": "var_list.py",
     "varRefreshCmd": "print(var_dic_list())"
    },
    "r": {
     "delete_cmd_postfix": ") ",
     "delete_cmd_prefix": "rm(",
     "library": "var_list.r",
     "varRefreshCmd": "cat(var_dic_list()) "
    }
   },
   "types_to_exclude": [
    "module",
    "function",
    "builtin_function_or_method",
    "instance",
    "_Feature"
   ],
   "window_display": false
  }
 },
 "nbformat": 4,
 "nbformat_minor": 4
}
