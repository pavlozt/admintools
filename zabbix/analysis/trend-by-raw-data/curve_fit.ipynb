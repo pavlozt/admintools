{
 "cells": [
  {
   "cell_type": "markdown",
   "metadata": {},
   "source": [
    "# Пример подгонки  произвольной функции к данным Zabbix.\n",
    "\n",
    "Шаблон кода для работы с zabbix и прогнозирования процессов по-сисадмински."
   ]
  },
  {
   "cell_type": "code",
   "execution_count": 1,
   "metadata": {},
   "outputs": [],
   "source": [
    "import pandas as pd"
   ]
  },
  {
   "cell_type": "markdown",
   "metadata": {},
   "source": [
    "При экспорте данных из веб-интерфейса zabbix доступна только выгрузка в виде текстового файла со странички,  однако применив некоторые параметры, данные можно считать  как CSV."
   ]
  },
  {
   "cell_type": "code",
   "execution_count": 2,
   "metadata": {},
   "outputs": [
    {
     "data": {
      "text/html": [
       "<div>\n",
       "<style scoped>\n",
       "    .dataframe tbody tr th:only-of-type {\n",
       "        vertical-align: middle;\n",
       "    }\n",
       "\n",
       "    .dataframe tbody tr th {\n",
       "        vertical-align: top;\n",
       "    }\n",
       "\n",
       "    .dataframe thead th {\n",
       "        text-align: right;\n",
       "    }\n",
       "</style>\n",
       "<table border=\"1\" class=\"dataframe\">\n",
       "  <thead>\n",
       "    <tr style=\"text-align: right;\">\n",
       "      <th></th>\n",
       "      <th>day</th>\n",
       "      <th>time</th>\n",
       "      <th>unixts</th>\n",
       "      <th>value</th>\n",
       "    </tr>\n",
       "  </thead>\n",
       "  <tbody>\n",
       "    <tr>\n",
       "      <th>0</th>\n",
       "      <td>2020-12-02</td>\n",
       "      <td>03:59:55</td>\n",
       "      <td>1606870795</td>\n",
       "      <td>416476</td>\n",
       "    </tr>\n",
       "    <tr>\n",
       "      <th>1</th>\n",
       "      <td>2020-12-02</td>\n",
       "      <td>03:56:56</td>\n",
       "      <td>1606870616</td>\n",
       "      <td>417435</td>\n",
       "    </tr>\n",
       "    <tr>\n",
       "      <th>2</th>\n",
       "      <td>2020-12-02</td>\n",
       "      <td>03:53:55</td>\n",
       "      <td>1606870435</td>\n",
       "      <td>417807</td>\n",
       "    </tr>\n",
       "    <tr>\n",
       "      <th>3</th>\n",
       "      <td>2020-12-02</td>\n",
       "      <td>03:50:55</td>\n",
       "      <td>1606870255</td>\n",
       "      <td>418295</td>\n",
       "    </tr>\n",
       "    <tr>\n",
       "      <th>4</th>\n",
       "      <td>2020-12-02</td>\n",
       "      <td>03:47:55</td>\n",
       "      <td>1606870075</td>\n",
       "      <td>418868</td>\n",
       "    </tr>\n",
       "    <tr>\n",
       "      <th>...</th>\n",
       "      <td>...</td>\n",
       "      <td>...</td>\n",
       "      <td>...</td>\n",
       "      <td>...</td>\n",
       "    </tr>\n",
       "    <tr>\n",
       "      <th>995</th>\n",
       "      <td>2020-11-30</td>\n",
       "      <td>02:14:55</td>\n",
       "      <td>1606691695</td>\n",
       "      <td>761883</td>\n",
       "    </tr>\n",
       "    <tr>\n",
       "      <th>996</th>\n",
       "      <td>2020-11-30</td>\n",
       "      <td>02:11:55</td>\n",
       "      <td>1606691515</td>\n",
       "      <td>762019</td>\n",
       "    </tr>\n",
       "    <tr>\n",
       "      <th>997</th>\n",
       "      <td>2020-11-30</td>\n",
       "      <td>02:08:55</td>\n",
       "      <td>1606691335</td>\n",
       "      <td>762278</td>\n",
       "    </tr>\n",
       "    <tr>\n",
       "      <th>998</th>\n",
       "      <td>2020-11-30</td>\n",
       "      <td>02:05:55</td>\n",
       "      <td>1606691155</td>\n",
       "      <td>762310</td>\n",
       "    </tr>\n",
       "    <tr>\n",
       "      <th>999</th>\n",
       "      <td>2020-11-30</td>\n",
       "      <td>02:02:55</td>\n",
       "      <td>1606690975</td>\n",
       "      <td>762904</td>\n",
       "    </tr>\n",
       "  </tbody>\n",
       "</table>\n",
       "<p>1000 rows × 4 columns</p>\n",
       "</div>"
      ],
      "text/plain": [
       "            day      time      unixts   value\n",
       "0    2020-12-02  03:59:55  1606870795  416476\n",
       "1    2020-12-02  03:56:56  1606870616  417435\n",
       "2    2020-12-02  03:53:55  1606870435  417807\n",
       "3    2020-12-02  03:50:55  1606870255  418295\n",
       "4    2020-12-02  03:47:55  1606870075  418868\n",
       "..          ...       ...         ...     ...\n",
       "995  2020-11-30  02:14:55  1606691695  761883\n",
       "996  2020-11-30  02:11:55  1606691515  762019\n",
       "997  2020-11-30  02:08:55  1606691335  762278\n",
       "998  2020-11-30  02:05:55  1606691155  762310\n",
       "999  2020-11-30  02:02:55  1606690975  762904\n",
       "\n",
       "[1000 rows x 4 columns]"
      ]
     },
     "execution_count": 2,
     "metadata": {},
     "output_type": "execute_result"
    }
   ],
   "source": [
    "exp=pd.read_csv('exported.txt',sep=' ',skiprows=2,names=['day','time','unixts','value'])\n",
    "exp"
   ]
  },
  {
   "cell_type": "code",
   "execution_count": 3,
   "metadata": {},
   "outputs": [],
   "source": [
    "exp['ts']=exp.day + ' '  + exp.time\n",
    "exp=exp.sort_values(by=['ts'])\n",
    "exp.reset_index(drop=True, inplace=True)"
   ]
  },
  {
   "cell_type": "code",
   "execution_count": 4,
   "metadata": {},
   "outputs": [
    {
     "data": {
      "text/html": [
       "<div>\n",
       "<style scoped>\n",
       "    .dataframe tbody tr th:only-of-type {\n",
       "        vertical-align: middle;\n",
       "    }\n",
       "\n",
       "    .dataframe tbody tr th {\n",
       "        vertical-align: top;\n",
       "    }\n",
       "\n",
       "    .dataframe thead th {\n",
       "        text-align: right;\n",
       "    }\n",
       "</style>\n",
       "<table border=\"1\" class=\"dataframe\">\n",
       "  <thead>\n",
       "    <tr style=\"text-align: right;\">\n",
       "      <th></th>\n",
       "      <th>ts</th>\n",
       "      <th>value</th>\n",
       "    </tr>\n",
       "  </thead>\n",
       "  <tbody>\n",
       "    <tr>\n",
       "      <th>0</th>\n",
       "      <td>2020-11-30 02:02:55</td>\n",
       "      <td>762904</td>\n",
       "    </tr>\n",
       "    <tr>\n",
       "      <th>1</th>\n",
       "      <td>2020-11-30 02:05:55</td>\n",
       "      <td>762310</td>\n",
       "    </tr>\n",
       "    <tr>\n",
       "      <th>2</th>\n",
       "      <td>2020-11-30 02:08:55</td>\n",
       "      <td>762278</td>\n",
       "    </tr>\n",
       "    <tr>\n",
       "      <th>3</th>\n",
       "      <td>2020-11-30 02:11:55</td>\n",
       "      <td>762019</td>\n",
       "    </tr>\n",
       "    <tr>\n",
       "      <th>4</th>\n",
       "      <td>2020-11-30 02:14:55</td>\n",
       "      <td>761883</td>\n",
       "    </tr>\n",
       "    <tr>\n",
       "      <th>...</th>\n",
       "      <td>...</td>\n",
       "      <td>...</td>\n",
       "    </tr>\n",
       "    <tr>\n",
       "      <th>995</th>\n",
       "      <td>2020-12-02 03:47:55</td>\n",
       "      <td>418868</td>\n",
       "    </tr>\n",
       "    <tr>\n",
       "      <th>996</th>\n",
       "      <td>2020-12-02 03:50:55</td>\n",
       "      <td>418295</td>\n",
       "    </tr>\n",
       "    <tr>\n",
       "      <th>997</th>\n",
       "      <td>2020-12-02 03:53:55</td>\n",
       "      <td>417807</td>\n",
       "    </tr>\n",
       "    <tr>\n",
       "      <th>998</th>\n",
       "      <td>2020-12-02 03:56:56</td>\n",
       "      <td>417435</td>\n",
       "    </tr>\n",
       "    <tr>\n",
       "      <th>999</th>\n",
       "      <td>2020-12-02 03:59:55</td>\n",
       "      <td>416476</td>\n",
       "    </tr>\n",
       "  </tbody>\n",
       "</table>\n",
       "<p>1000 rows × 2 columns</p>\n",
       "</div>"
      ],
      "text/plain": [
       "                     ts   value\n",
       "0   2020-11-30 02:02:55  762904\n",
       "1   2020-11-30 02:05:55  762310\n",
       "2   2020-11-30 02:08:55  762278\n",
       "3   2020-11-30 02:11:55  762019\n",
       "4   2020-11-30 02:14:55  761883\n",
       "..                  ...     ...\n",
       "995 2020-12-02 03:47:55  418868\n",
       "996 2020-12-02 03:50:55  418295\n",
       "997 2020-12-02 03:53:55  417807\n",
       "998 2020-12-02 03:56:56  417435\n",
       "999 2020-12-02 03:59:55  416476\n",
       "\n",
       "[1000 rows x 2 columns]"
      ]
     },
     "execution_count": 4,
     "metadata": {},
     "output_type": "execute_result"
    }
   ],
   "source": [
    "exp['ts']=pd.to_datetime(exp.ts)\n",
    "exp=exp[['ts','value']]\n",
    "exp"
   ]
  },
  {
   "cell_type": "markdown",
   "metadata": {},
   "source": [
    "Посмотрим на исходные данные графически"
   ]
  },
  {
   "cell_type": "code",
   "execution_count": 5,
   "metadata": {},
   "outputs": [
    {
     "data": {
      "image/png": "[encoded data removed]",
      "text/plain": [
       "<Figure size 432x288 with 1 Axes>"
      ]
     },
     "metadata": {
      "needs_background": "light"
     },
     "output_type": "display_data"
    }
   ],
   "source": [
    "ax = exp.plot.scatter(x='ts',y='value',s=0.3,grid=True);"
   ]
  },
  {
   "cell_type": "code",
   "execution_count": 6,
   "metadata": {},
   "outputs": [],
   "source": [
    "import datetime"
   ]
  },
  {
   "cell_type": "code",
   "execution_count": 7,
   "metadata": {},
   "outputs": [],
   "source": [
    "# определимся с начальным временем и конвертируем даты в числа\n",
    "timestart=pd.to_datetime('2020-11-29 0:0')\n",
    "tsdayrow=((exp['ts']-timestart)/datetime.timedelta(days=1)).copy()"
   ]
  },
  {
   "cell_type": "code",
   "execution_count": 8,
   "metadata": {},
   "outputs": [],
   "source": [
    "exp.loc[:,'tsdayrow']=tsdayrow.copy()"
   ]
  },
  {
   "cell_type": "code",
   "execution_count": 9,
   "metadata": {},
   "outputs": [
    {
     "data": {
      "text/html": [
       "<div>\n",
       "<style scoped>\n",
       "    .dataframe tbody tr th:only-of-type {\n",
       "        vertical-align: middle;\n",
       "    }\n",
       "\n",
       "    .dataframe tbody tr th {\n",
       "        vertical-align: top;\n",
       "    }\n",
       "\n",
       "    .dataframe thead th {\n",
       "        text-align: right;\n",
       "    }\n",
       "</style>\n",
       "<table border=\"1\" class=\"dataframe\">\n",
       "  <thead>\n",
       "    <tr style=\"text-align: right;\">\n",
       "      <th></th>\n",
       "      <th>ts</th>\n",
       "      <th>value</th>\n",
       "      <th>tsdayrow</th>\n",
       "    </tr>\n",
       "  </thead>\n",
       "  <tbody>\n",
       "    <tr>\n",
       "      <th>0</th>\n",
       "      <td>2020-11-30 02:02:55</td>\n",
       "      <td>762904</td>\n",
       "      <td>1.085359</td>\n",
       "    </tr>\n",
       "    <tr>\n",
       "      <th>1</th>\n",
       "      <td>2020-11-30 02:05:55</td>\n",
       "      <td>762310</td>\n",
       "      <td>1.087442</td>\n",
       "    </tr>\n",
       "    <tr>\n",
       "      <th>2</th>\n",
       "      <td>2020-11-30 02:08:55</td>\n",
       "      <td>762278</td>\n",
       "      <td>1.089525</td>\n",
       "    </tr>\n",
       "    <tr>\n",
       "      <th>3</th>\n",
       "      <td>2020-11-30 02:11:55</td>\n",
       "      <td>762019</td>\n",
       "      <td>1.091609</td>\n",
       "    </tr>\n",
       "    <tr>\n",
       "      <th>4</th>\n",
       "      <td>2020-11-30 02:14:55</td>\n",
       "      <td>761883</td>\n",
       "      <td>1.093692</td>\n",
       "    </tr>\n",
       "    <tr>\n",
       "      <th>...</th>\n",
       "      <td>...</td>\n",
       "      <td>...</td>\n",
       "      <td>...</td>\n",
       "    </tr>\n",
       "    <tr>\n",
       "      <th>995</th>\n",
       "      <td>2020-12-02 03:47:55</td>\n",
       "      <td>418868</td>\n",
       "      <td>3.158275</td>\n",
       "    </tr>\n",
       "    <tr>\n",
       "      <th>996</th>\n",
       "      <td>2020-12-02 03:50:55</td>\n",
       "      <td>418295</td>\n",
       "      <td>3.160359</td>\n",
       "    </tr>\n",
       "    <tr>\n",
       "      <th>997</th>\n",
       "      <td>2020-12-02 03:53:55</td>\n",
       "      <td>417807</td>\n",
       "      <td>3.162442</td>\n",
       "    </tr>\n",
       "    <tr>\n",
       "      <th>998</th>\n",
       "      <td>2020-12-02 03:56:56</td>\n",
       "      <td>417435</td>\n",
       "      <td>3.164537</td>\n",
       "    </tr>\n",
       "    <tr>\n",
       "      <th>999</th>\n",
       "      <td>2020-12-02 03:59:55</td>\n",
       "      <td>416476</td>\n",
       "      <td>3.166609</td>\n",
       "    </tr>\n",
       "  </tbody>\n",
       "</table>\n",
       "<p>1000 rows × 3 columns</p>\n",
       "</div>"
      ],
      "text/plain": [
       "                     ts   value  tsdayrow\n",
       "0   2020-11-30 02:02:55  762904  1.085359\n",
       "1   2020-11-30 02:05:55  762310  1.087442\n",
       "2   2020-11-30 02:08:55  762278  1.089525\n",
       "3   2020-11-30 02:11:55  762019  1.091609\n",
       "4   2020-11-30 02:14:55  761883  1.093692\n",
       "..                  ...     ...       ...\n",
       "995 2020-12-02 03:47:55  418868  3.158275\n",
       "996 2020-12-02 03:50:55  418295  3.160359\n",
       "997 2020-12-02 03:53:55  417807  3.162442\n",
       "998 2020-12-02 03:56:56  417435  3.164537\n",
       "999 2020-12-02 03:59:55  416476  3.166609\n",
       "\n",
       "[1000 rows x 3 columns]"
      ]
     },
     "execution_count": 9,
     "metadata": {},
     "output_type": "execute_result"
    }
   ],
   "source": [
    "exp"
   ]
  },
  {
   "cell_type": "code",
   "execution_count": 10,
   "metadata": {},
   "outputs": [
    {
     "data": {
      "text/plain": [
       "<AxesSubplot:xlabel='tsdayrow'>"
      ]
     },
     "execution_count": 10,
     "metadata": {},
     "output_type": "execute_result"
    },
    {
     "data": {
      "image/png": "[encoded data removed]",
      "text/plain": [
       "<Figure size 432x288 with 1 Axes>"
      ]
     },
     "metadata": {
      "needs_background": "light"
     },
     "output_type": "display_data"
    }
   ],
   "source": [
    "# убедимся что время можно интерпретировать как число дней\n",
    "exp.plot(x='tsdayrow',y='value',grid=True)"
   ]
  },
  {
   "cell_type": "code",
   "execution_count": 11,
   "metadata": {},
   "outputs": [],
   "source": [
    "import numpy as np\n",
    "import matplotlib.pyplot as plt\n",
    "from scipy.optimize import curve_fit"
   ]
  },
  {
   "cell_type": "markdown",
   "metadata": {},
   "source": [
    "## выбор функции \n",
    "рисуем простой график функции на основе экспоненты чтобы убедиться что функция в принципе нам подходит по форме"
   ]
  },
  {
   "cell_type": "code",
   "execution_count": 12,
   "metadata": {},
   "outputs": [],
   "source": [
    "def func(x, a, b, c):\n",
    "    return a * np.exp(b*x) +c"
   ]
  },
  {
   "cell_type": "markdown",
   "metadata": {},
   "source": [
    "Проверим соответствует ли код предполагаемой форме графика функции? "
   ]
  },
  {
   "cell_type": "code",
   "execution_count": 13,
   "metadata": {},
   "outputs": [
    {
     "data": {
      "image/png": "[encoded data removed]",
      "text/plain": [
       "<Figure size 432x288 with 1 Axes>"
      ]
     },
     "metadata": {
      "needs_background": "light"
     },
     "output_type": "display_data"
    }
   ],
   "source": [
    "xdata = np.linspace(0, 3, 50)\n",
    "y = func(xdata, - 2, 1, 150)\n",
    "plt.plot(xdata, y, 'b-', label='data');"
   ]
  },
  {
   "cell_type": "markdown",
   "metadata": {},
   "source": [
    "теперь на основе экспериментальных данных подтянем функцию с помощью метода scipy.optimize.curve_fit()"
   ]
  },
  {
   "cell_type": "code",
   "execution_count": 14,
   "metadata": {},
   "outputs": [
    {
     "data": {
      "text/plain": [
       "array([-3.53000475e+05,  2.56810198e-01,  1.22341800e+06])"
      ]
     },
     "execution_count": 14,
     "metadata": {},
     "output_type": "execute_result"
    }
   ],
   "source": [
    "popt,pcov = curve_fit(func,exp['tsdayrow'],exp['value'])\n",
    "popt"
   ]
  },
  {
   "cell_type": "code",
   "execution_count": 15,
   "metadata": {},
   "outputs": [
    {
     "data": {
      "text/plain": [
       "array([[ 9.94239082e+07,  4.61300334e+01, -1.10580720e+08],\n",
       "       [ 4.61300334e+01,  2.14442307e-05, -5.12502284e+01],\n",
       "       [-1.10580720e+08, -5.12502284e+01,  1.23080280e+08]])"
      ]
     },
     "execution_count": 15,
     "metadata": {},
     "output_type": "execute_result"
    }
   ],
   "source": [
    "pcov"
   ]
  },
  {
   "cell_type": "markdown",
   "metadata": {},
   "source": [
    "\n",
    "Снова графически отображаем чтобы убедиться что полученная функция подходит под данные"
   ]
  },
  {
   "cell_type": "code",
   "execution_count": 16,
   "metadata": {},
   "outputs": [
    {
     "data": {
      "image/png": "[encoded data removed]",
      "text/plain": [
       "<Figure size 432x288 with 1 Axes>"
      ]
     },
     "metadata": {
      "needs_background": "light"
     },
     "output_type": "display_data"
    },
    {
     "data": {
      "text/plain": [
       "<Figure size 1440x720 with 0 Axes>"
      ]
     },
     "metadata": {},
     "output_type": "display_data"
    }
   ],
   "source": [
    "plt.plot(exp['tsdayrow'],exp['value'])\n",
    "\n",
    "plt.plot(xdata, func(xdata, *popt), 'g--',\n",
    "         label='fit: a=%5.3f, b=%5.3f, c=%5.3f' % tuple(popt))\n",
    "plt.xlabel('x')\n",
    "plt.ylabel('y')\n",
    "plt.legend()\n",
    "plt.figure(figsize=(20,10))\n",
    "plt.show()"
   ]
  },
  {
   "cell_type": "markdown",
   "metadata": {},
   "source": [
    "## TODO ## \n",
    "Еще посчитаем среднеквадратичную ошибку. Это пригодится для сравнения этой модели с другими  "
   ]
  },
  {
   "cell_type": "markdown",
   "metadata": {},
   "source": [
    "# Прогноз на N дней вперед #"
   ]
  },
  {
   "cell_type": "code",
   "execution_count": 17,
   "metadata": {},
   "outputs": [],
   "source": [
    "to_days=6\n",
    "bins=500\n",
    "xdata = np.linspace(0, to_days, bins)\n",
    "y = func(xdata, *popt)"
   ]
  },
  {
   "cell_type": "markdown",
   "metadata": {},
   "source": [
    "В какой же точке функция достигает 0 ?"
   ]
  },
  {
   "cell_type": "code",
   "execution_count": 22,
   "metadata": {},
   "outputs": [
    {
     "data": {
      "text/plain": [
       "4.845691382765531"
      ]
     },
     "execution_count": 22,
     "metadata": {},
     "output_type": "execute_result"
    }
   ],
   "source": [
    "thisday=xdata[np.argmax(y<=0)]\n",
    "thisday"
   ]
  },
  {
   "cell_type": "code",
   "execution_count": 23,
   "metadata": {},
   "outputs": [
    {
     "data": {
      "text/plain": [
       "'2020-12-03 20:17:47.735470941'"
      ]
     },
     "execution_count": 23,
     "metadata": {},
     "output_type": "execute_result"
    }
   ],
   "source": [
    "# и пересчитаем число в конктретную дату\n",
    "thisday_str=str(timestart+pd.Timedelta(days=thisday))\n",
    "thisday_str"
   ]
  },
  {
   "cell_type": "code",
   "execution_count": 20,
   "metadata": {},
   "outputs": [],
   "source": [
    "lastknown_x=exp['tsdayrow'][-1:]\n",
    "lastknown_y=exp['value'][-1:]\n",
    "lastknown_time=exp['ts'][-1:]"
   ]
  },
  {
   "cell_type": "code",
   "execution_count": 21,
   "metadata": {},
   "outputs": [
    {
     "data": {
      "image/png": "[encoded data removed]",
      "text/plain": [
       "<Figure size 1440x720 with 1 Axes>"
      ]
     },
     "metadata": {
      "needs_background": "light"
     },
     "output_type": "display_data"
    }
   ],
   "source": [
    "# отобразим графически\n",
    "fig, ax = plt.subplots()\n",
    "ax.plot(xdata, y)\n",
    "fig.set_size_inches(20,10)\n",
    "ax.set_title('Предсказание очистки блоков',fontsize=20)\n",
    "ax.set_ylabel('dirty blocks')\n",
    "ax.set_xlabel('days')\n",
    "ax.grid('both')\n",
    "\n",
    "ax.annotate('Точка пересечения ' + thisday_str,\n",
    "            xy=(thisday, 0), xycoords='data',\n",
    "            xytext=(0.9, 0.9), textcoords='axes fraction',\n",
    "            arrowprops=dict(facecolor='black', shrink=0.05),\n",
    "            horizontalalignment='right', verticalalignment='bottom',fontsize=20)\n",
    "\n",
    "ax.annotate('Экспериментальные данные ',\n",
    "            xy=(lastknown_x, lastknown_y), xycoords='data',\n",
    "            xytext=(0.7, 0.1), \n",
    "            textcoords='axes fraction',\n",
    "            arrowprops=dict(facecolor='black', shrink=0.05),\n",
    "            horizontalalignment='right', verticalalignment='bottom',fontsize=20\n",
    "           )\n",
    "\n",
    "\n",
    "ax.set_xticks([0,1,2,thisday]);\n",
    "\n",
    "# И поверх еще заполируем оригинальными данными\n",
    "ax.plot(exp['tsdayrow'],exp['value'])\n",
    "ax.plot(thisday, 0, 'o');\n",
    "ax.plot(lastknown_x,lastknown_y,'o');\n"
   ]
  },
  {
   "cell_type": "markdown",
   "metadata": {},
   "source": [
    "# Кстати #\n",
    "С течением времени выяснилось, что исследуемый процесс линейный с поправками на суточную сезонность, но не экспоненциальный."
   ]
  }
 ],
 "metadata": {
  "kernelspec": {
   "display_name": "Python 3 (ipykernel)",
   "language": "python",
   "name": "python3"
  },
  "language_info": {
   "codemirror_mode": {
    "name": "ipython",
    "version": 3
   },
   "file_extension": ".py",
   "mimetype": "text/x-python",
   "name": "python",
   "nbconvert_exporter": "python",
   "pygments_lexer": "ipython3",
   "version": "3.9.2"
  },
  "nbTranslate": {
   "displayLangs": [
    "*"
   ],
   "hotkey": "alt-t",
   "langInMainMenu": true,
   "sourceLang": "en",
   "targetLang": "fr",
   "useGoogleTranslate": true
  },
  "varInspector": {
   "cols": {
    "lenName": 16,
    "lenType": 16,
    "lenVar": 40
   },
   "kernels_config": {
    "python": {
     "delete_cmd_postfix": "",
     "delete_cmd_prefix": "del ",
     "library": "var_list.py",
     "varRefreshCmd": "print(var_dic_list())"
    },
    "r": {
     "delete_cmd_postfix": ") ",
     "delete_cmd_prefix": "rm(",
     "library": "var_list.r",
     "varRefreshCmd": "cat(var_dic_list()) "
    }
   },
   "types_to_exclude": [
    "module",
    "function",
    "builtin_function_or_method",
    "instance",
    "_Feature"
   ],
   "window_display": false
  }
 },
 "nbformat": 4,
 "nbformat_minor": 4
}
