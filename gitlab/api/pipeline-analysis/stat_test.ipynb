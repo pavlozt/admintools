{
 "cells": [
  {
   "cell_type": "markdown",
   "id": "6e69368c",
   "metadata": {},
   "source": [
    "# Обработка результатов эксперимента "
   ]
  },
  {
   "cell_type": "code",
   "execution_count": 1,
   "id": "bbcedd12",
   "metadata": {},
   "outputs": [],
   "source": [
    "import pandas as pd\n",
    "import scipy.stats as stats"
   ]
  },
  {
   "cell_type": "code",
   "execution_count": 2,
   "id": "392e362e",
   "metadata": {},
   "outputs": [
    {
     "data": {
      "text/html": [
       "<div>\n",
       "<style scoped>\n",
       "    .dataframe tbody tr th:only-of-type {\n",
       "        vertical-align: middle;\n",
       "    }\n",
       "\n",
       "    .dataframe tbody tr th {\n",
       "        vertical-align: top;\n",
       "    }\n",
       "\n",
       "    .dataframe thead th {\n",
       "        text-align: right;\n",
       "    }\n",
       "</style>\n",
       "<table border=\"1\" class=\"dataframe\">\n",
       "  <thead>\n",
       "    <tr style=\"text-align: right;\">\n",
       "      <th></th>\n",
       "      <th>duration</th>\n",
       "      <th>comment</th>\n",
       "    </tr>\n",
       "  </thead>\n",
       "  <tbody>\n",
       "    <tr>\n",
       "      <th>0</th>\n",
       "      <td>12.083284</td>\n",
       "      <td>run #4. cache on</td>\n",
       "    </tr>\n",
       "    <tr>\n",
       "      <th>1</th>\n",
       "      <td>11.651030</td>\n",
       "      <td>run #3. cache off</td>\n",
       "    </tr>\n",
       "    <tr>\n",
       "      <th>2</th>\n",
       "      <td>11.335891</td>\n",
       "      <td>run #3. cache on</td>\n",
       "    </tr>\n",
       "    <tr>\n",
       "      <th>3</th>\n",
       "      <td>12.668044</td>\n",
       "      <td>run #2. cache off</td>\n",
       "    </tr>\n",
       "    <tr>\n",
       "      <th>4</th>\n",
       "      <td>12.292129</td>\n",
       "      <td>run #2. cache on</td>\n",
       "    </tr>\n",
       "    <tr>\n",
       "      <th>5</th>\n",
       "      <td>12.038498</td>\n",
       "      <td>run #1. cache off</td>\n",
       "    </tr>\n",
       "    <tr>\n",
       "      <th>6</th>\n",
       "      <td>12.001668</td>\n",
       "      <td>run #1. cache on</td>\n",
       "    </tr>\n",
       "  </tbody>\n",
       "</table>\n",
       "</div>"
      ],
      "text/plain": [
       "    duration            comment\n",
       "0  12.083284   run #4. cache on\n",
       "1  11.651030  run #3. cache off\n",
       "2  11.335891   run #3. cache on\n",
       "3  12.668044  run #2. cache off\n",
       "4  12.292129   run #2. cache on\n",
       "5  12.038498  run #1. cache off\n",
       "6  12.001668   run #1. cache on"
      ]
     },
     "execution_count": 2,
     "metadata": {},
     "output_type": "execute_result"
    }
   ],
   "source": [
    "df=pd.read_csv('saved.csv',header=None,names=['duration','comment'])\n",
    "df"
   ]
  },
  {
   "cell_type": "code",
   "execution_count": 8,
   "id": "5d37ef86",
   "metadata": {},
   "outputs": [
    {
     "data": {
      "image/png": "[encoded data removed]",
      "text/plain": [
       "<Figure size 640x480 with 1 Axes>"
      ]
     },
     "metadata": {},
     "output_type": "display_data"
    }
   ],
   "source": [
    "df['type']=df.comment.str.contains(\"cache on\")\n",
    "df.boxplot(column='duration',by='type');"
   ]
  },
  {
   "cell_type": "markdown",
   "id": "484bc96f",
   "metadata": {},
   "source": [
    "Возможно, кеширование обеспечивает некоторую стабильность скорости сборки.\n",
    "\n",
    "## Cтрогое тестирование гипотезы. \n",
    "Для малых выборок используем непараметрический тест  - U-критерий Манна-Уитни"
   ]
  },
  {
   "cell_type": "code",
   "execution_count": 4,
   "id": "b488b441",
   "metadata": {},
   "outputs": [],
   "source": [
    "on=df[df.comment.str.contains(\"cache on\")].duration\n",
    "off=df[df.comment.str.contains(\"cache off\")].duration"
   ]
  },
  {
   "cell_type": "code",
   "execution_count": 5,
   "id": "dee7f8b1",
   "metadata": {},
   "outputs": [
    {
     "data": {
      "text/plain": [
       "MannwhitneyuResult(statistic=7.0, pvalue=0.42857142857142855)"
      ]
     },
     "execution_count": 5,
     "metadata": {},
     "output_type": "execute_result"
    }
   ],
   "source": [
    "stats.mannwhitneyu(off, on, alternative='greater')"
   ]
  },
  {
   "cell_type": "markdown",
   "id": "b687e324",
   "metadata": {},
   "source": [
    "pvalue > 0.05 \n",
    "\n",
    "## Вывод: нет достаточных оснований считать полезной эффективность кеширования сборки для исследуемого приложения  \n",
    "\n",
    "Очевидно, это противоречит сути настройки кеширования в gitlab. \n",
    "Но объясняет почему во многих случаях эффект как будто бы не был заметен.  \n",
    "\n",
    "В приложениях большего размера ситуация должна поменяться."
   ]
  }
 ],
 "metadata": {
  "kernelspec": {
   "display_name": "Python 3 (ipykernel)",
   "language": "python",
   "name": "python3"
  },
  "language_info": {
   "codemirror_mode": {
    "name": "ipython",
    "version": 3
   },
   "file_extension": ".py",
   "mimetype": "text/x-python",
   "name": "python",
   "nbconvert_exporter": "python",
   "pygments_lexer": "ipython3",
   "version": "3.9.2"
  }
 },
 "nbformat": 4,
 "nbformat_minor": 5
}
