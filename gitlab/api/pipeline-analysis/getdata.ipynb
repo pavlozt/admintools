{
 "cells": [
  {
   "cell_type": "markdown",
   "id": "f403315f",
   "metadata": {},
   "source": [
    "# Получение и обработка данных в Gitlab\n",
    "\n",
    "Будем использовать модуль [python-gitlab](https://python-gitlab.readthedocs.io/) .\n",
    "\n",
    "А конкретно,возможности [Pipelines and jobs](https://python-gitlab.readthedocs.io/en/stable/gl_objects/pipelines_and_jobs.html) ."
   ]
  },
  {
   "cell_type": "code",
   "execution_count": 1,
   "id": "6445cfdc",
   "metadata": {},
   "outputs": [],
   "source": [
    "#!pip install python-gitlab\n",
    "import gitlab"
   ]
  },
  {
   "cell_type": "code",
   "execution_count": 2,
   "id": "2ae5dda3",
   "metadata": {},
   "outputs": [],
   "source": [
    "# проще всего поместить в рабочий каталог модуль local_secrets.py, где объявляются некоторые секретные переменные\n",
    "from  local_secrets import *"
   ]
  },
  {
   "cell_type": "code",
   "execution_count": 3,
   "id": "88ac1adf",
   "metadata": {},
   "outputs": [],
   "source": [
    "gl = gitlab.Gitlab(url=GITLAB_URL, private_token=GITLAB_TOKEN)"
   ]
  },
  {
   "cell_type": "code",
   "execution_count": 4,
   "id": "6e1a4de9",
   "metadata": {},
   "outputs": [],
   "source": [
    "gl.auth()"
   ]
  },
  {
   "cell_type": "code",
   "execution_count": 5,
   "id": "a35cd0ba",
   "metadata": {},
   "outputs": [],
   "source": [
    "project = gl.projects.get(GITLAB_PROJECT_SLUG)"
   ]
  },
  {
   "cell_type": "code",
   "execution_count": 6,
   "id": "9f59592d",
   "metadata": {},
   "outputs": [],
   "source": [
    "# Нужно взять N последних запусков по порядку updated_at в этом pipeline\n",
    "# в данном примере 7 последних запусков\n",
    "import itertools\n",
    "last_num = 7\n",
    "pipelines = project.pipelines.list(order_by='updated_at',sort='desc',iterator=True)\n",
    "last_pipelines = itertools.islice(pipelines, last_num)"
   ]
  },
  {
   "cell_type": "code",
   "execution_count": 7,
   "id": "2090283c",
   "metadata": {},
   "outputs": [],
   "source": [
    "def extract_from_job(pipeline):\n",
    "    return [\n",
    "         (j.duration,j.commit['message'].strip())\n",
    "         for j in pipeline.jobs.list()\n",
    "         if j.name =='compile'\n",
    "    ]\n",
    "datalist = map(lambda x: x[0],map(extract_from_job,last_pipelines))"
   ]
  },
  {
   "cell_type": "code",
   "execution_count": 8,
   "id": "d59c359e",
   "metadata": {},
   "outputs": [],
   "source": [
    "import csv\n",
    "with open('saved.csv', 'w') as f:\n",
    "    writer = csv.writer(f)\n",
    "    writer.writerows(datalist)    "
   ]
  }
 ],
 "metadata": {
  "kernelspec": {
   "display_name": "Python 3 (ipykernel)",
   "language": "python",
   "name": "python3"
  },
  "language_info": {
   "codemirror_mode": {
    "name": "ipython",
    "version": 3
   },
   "file_extension": ".py",
   "mimetype": "text/x-python",
   "name": "python",
   "nbconvert_exporter": "python",
   "pygments_lexer": "ipython3",
   "version": "3.9.2"
  }
 },
 "nbformat": 4,
 "nbformat_minor": 5
}
